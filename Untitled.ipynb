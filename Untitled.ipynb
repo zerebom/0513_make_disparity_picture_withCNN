{
 "cells": [
  {
   "cell_type": "code",
   "execution_count": 2,
   "metadata": {},
   "outputs": [],
   "source": [
    "from PIL import Image, ImageOps\n",
    "from IPython.display import display_png\n",
    "import os\n",
    "import math\n",
    "import random\n",
    "import numpy as np\n",
    "import pandas as pd\n",
    "import matplotlib.pyplot as plt\n",
    "from tensorflow.python import keras\n",
    "from tensorflow.python.keras import backend as K\n",
    "from tensorflow.python.keras.models import Model, Sequential\n",
    "from tensorflow.python.keras.layers import Conv2D, Dense, Input, MaxPool2D, UpSampling2D, Lambda\n",
    "from tensorflow.python.keras.preprocessing.image import load_img, img_to_array, array_to_img, ImageDataGenerator\n",
    "import tensorflow as tf\n",
    "from tensorflow import keras\n",
    "\n",
    "import json\n",
    "from tensorflow.python.keras.layers import Conv2DTranspose\n",
    "import glob"
   ]
  },
  {
   "cell_type": "code",
   "execution_count": 2,
   "metadata": {},
   "outputs": [],
   "source": [
    "config = json.load(open('./settings.json'))\n",
    "DATASET_PATH = config['dataset_path']"
   ]
  },
  {
   "cell_type": "markdown",
   "metadata": {},
   "source": [
    "やりたいこと\n",
    "\n",
    "train,test,validで分割する\n",
    "分割した中で、バッチサイズごとにyieldする\n",
    "そのパスを開いて、教師データ、トレーニングデータにチャンネル数を変える\n"
   ]
  },
  {
   "cell_type": "code",
   "execution_count": 3,
   "metadata": {},
   "outputs": [],
   "source": [
    "Left_RGB = glob.glob(os.path.join(DATASET_PATH['Left_RGB'], '*png'))\n",
    "Right_disparity = glob.glob(os.path.join(DATASET_PATH['Right_disparity'], '*png'))\n",
    "Left_disparity = glob.glob(os.path.join(DATASET_PATH['Left_disparity'], '*png'))\n",
    "\n",
    "Right_RGB = glob.glob(os.path.join(DATASET_PATH['Right_RGB'], '*png'))\n",
    "def generate_dir_name():\n",
    "        return datetime.datetime.today().strftime(\"%Y%m%d_%H%M\")\n",
    "\n",
    "def train_valid_test_splits(img_total_num, train_rate=0.8, valid_rate=0.1, test_rate=0.1):\n",
    "    data_array = list(range(img_total_num))\n",
    "    tr = math.floor(img_total_num * train_rate)\n",
    "    vl = math.floor(img_total_num * (train_rate + valid_rate))\n",
    "\n",
    "    random.shuffle(data_array)\n",
    "    train_list = data_array[:tr]\n",
    "    valid_list = data_array[tr:vl]\n",
    "    test_list = data_array[vl:]\n",
    "\n",
    "    return train_list, valid_list, test_list\n",
    "\n",
    "\n",
    "def get_5channel_img_and_teach_img_from_img_id_list(batch_list, Left_RGB=Left_RGB, Right_RGB=Right_RGB, Left_disparity=Left_disparity,\n",
    "                                                  Right_disparity=Right_disparity, INPUT_SIZE=(128, 128)):\n",
    "    teach_img_list = []\n",
    "    input_5_channel_img_list = []\n",
    "    for i in batch_list:\n",
    "        L_RGB = img_to_array(load_img(Left_RGB[i], target_size=INPUT_SIZE)).astype(np.uint8)\n",
    "        L_DIS = img_to_array(load_img(Left_disparity[i], grayscale=True, target_size=INPUT_SIZE)).astype(np.uint8)\n",
    "        R_DIS = img_to_array(load_img(Right_disparity[i], grayscale=True, target_size=INPUT_SIZE)).astype(np.uint8)\n",
    "\n",
    "        L_RGB=L_RGB/255\n",
    "        L_DIS=L_DIS/255\n",
    "        R_DIS=R_DIS/255\n",
    "\n",
    "        input_5_channel_img = np.concatenate((L_RGB, L_DIS, R_DIS), 2).astype(np.uint8)\n",
    "        input_5_channel_img_list.append(input_5_channel_img)\n",
    "\n",
    "        teach_img = img_to_array(load_img(Right_RGB[i], target_size=INPUT_SIZE)).astype(np.uint8)\n",
    "        teach_img=teach_img/255\n",
    "        teach_img_list.append(teach_img)\n",
    "# 4次元テンソルに変換している\n",
    "    return np.stack(input_5_channel_img_list), np.stack(teach_img_list)\n",
    "\n",
    "\n",
    "def generator_with_preprocessing(img_id_list, batch_size, shuffle=False):\n",
    "    while True:\n",
    "        if shuffle:\n",
    "            np.random.shuffle(img_id_list)\n",
    "        for i in range(0, len(img_id_list), batch_size):\n",
    "            batch_list = img_id_list[i:i + batch_size]\n",
    "            batch_5, batch_teach = get_5channel_img_and_teach_img_from_img_id_list(batch_list)\n",
    "\n",
    "            yield(batch_5, batch_teach)\n",
    "\n"
   ]
  },
  {
   "cell_type": "code",
   "execution_count": 4,
   "metadata": {},
   "outputs": [
    {
     "data": {
      "text/plain": [
       "336"
      ]
     },
     "execution_count": 4,
     "metadata": {},
     "output_type": "execute_result"
    }
   ],
   "source": [
    "len(Left_RGB)"
   ]
  },
  {
   "cell_type": "code",
   "execution_count": 5,
   "metadata": {},
   "outputs": [],
   "source": [
    "train_list, valid_list, test_list = train_valid_test_splits(len(Left_RGB))\n"
   ]
  },
  {
   "cell_type": "code",
   "execution_count": 6,
   "metadata": {},
   "outputs": [
    {
     "ename": "NameError",
     "evalue": "name 'i' is not defined",
     "output_type": "error",
     "traceback": [
      "\u001b[1;31m---------------------------------------------------------------------------\u001b[0m",
      "\u001b[1;31mNameError\u001b[0m                                 Traceback (most recent call last)",
      "\u001b[1;32m<ipython-input-6-5ff05bfff179>\u001b[0m in \u001b[0;36m<module>\u001b[1;34m\u001b[0m\n\u001b[0;32m      1\u001b[0m \u001b[1;33m\u001b[0m\u001b[0m\n\u001b[1;32m----> 2\u001b[1;33m \u001b[0mteach_img\u001b[0m \u001b[1;33m=\u001b[0m \u001b[0mimg_to_array\u001b[0m\u001b[1;33m(\u001b[0m\u001b[0mload_img\u001b[0m\u001b[1;33m(\u001b[0m\u001b[0mRight_RGB\u001b[0m\u001b[1;33m[\u001b[0m\u001b[0mi\u001b[0m\u001b[1;33m]\u001b[0m\u001b[1;33m,\u001b[0m \u001b[0mtarget_size\u001b[0m\u001b[1;33m=\u001b[0m\u001b[0mINPUT_SIZE\u001b[0m\u001b[1;33m)\u001b[0m\u001b[1;33m)\u001b[0m\u001b[1;33m.\u001b[0m\u001b[0mastype\u001b[0m\u001b[1;33m(\u001b[0m\u001b[0mnp\u001b[0m\u001b[1;33m.\u001b[0m\u001b[0muint8\u001b[0m\u001b[1;33m)\u001b[0m\u001b[1;33m\u001b[0m\u001b[1;33m\u001b[0m\u001b[0m\n\u001b[0m\u001b[0;32m      3\u001b[0m \u001b[0mteach_img\u001b[0m \u001b[1;33m=\u001b[0m \u001b[0mload_img\u001b[0m\u001b[1;33m(\u001b[0m\u001b[0mRight_RGB\u001b[0m\u001b[1;33m[\u001b[0m\u001b[0mnum\u001b[0m\u001b[1;33m]\u001b[0m\u001b[1;33m,\u001b[0m \u001b[0mtarget_size\u001b[0m\u001b[1;33m=\u001b[0m\u001b[0mINPUT_SIZE\u001b[0m\u001b[1;33m)\u001b[0m\u001b[1;33m\u001b[0m\u001b[1;33m\u001b[0m\u001b[0m\n",
      "\u001b[1;31mNameError\u001b[0m: name 'i' is not defined"
     ]
    }
   ],
   "source": [
    "\n",
    "teach_img = img_to_array(load_img(Right_RGB[i], target_size=INPUT_SIZE)).astype(np.uint8)\n",
    "teach_img = load_img(Right_RGB[num], target_size=INPUT_SIZE)\n"
   ]
  },
  {
   "cell_type": "code",
   "execution_count": 8,
   "metadata": {},
   "outputs": [],
   "source": [
    "INPUT_SIZE=(128, 128)\n",
    "num=128\n",
    "teach_img_1 = load_img(Right_RGB[num], target_size=INPUT_SIZE)\n",
    "teach_img_2 = load_img(Right_RGB[num+2], target_size=INPUT_SIZE)\n"
   ]
  },
  {
   "cell_type": "code",
   "execution_count": 12,
   "metadata": {},
   "outputs": [],
   "source": [
    "import numpy as np\n",
    "input_img=img_to_array(load_img(Right_RGB[num], target_size=INPUT_SIZE)).astype(np.uint8)"
   ]
  },
  {
   "cell_type": "code",
   "execution_count": 15,
   "metadata": {},
   "outputs": [
    {
     "data": {
      "text/plain": [
       "numpy.ndarray"
      ]
     },
     "execution_count": 15,
     "metadata": {},
     "output_type": "execute_result"
    }
   ],
   "source": [
    "type(input_img/255)"
   ]
  },
  {
   "cell_type": "code",
   "execution_count": 6,
   "metadata": {},
   "outputs": [],
   "source": [
    "batch_size=4"
   ]
  },
  {
   "cell_type": "code",
   "execution_count": 10,
   "metadata": {},
   "outputs": [],
   "source": [
    "train_gen = generator_with_preprocessing(train_list, batch_size)"
   ]
  },
  {
   "cell_type": "code",
   "execution_count": null,
   "metadata": {},
   "outputs": [],
   "source": [
    "def plot_history(history,title='loss'):\n",
    "        # print(history.history.keys())\n",
    "\n",
    "        # 精度の履歴をプロット\n",
    "        # plt.plot(history.history['acc'])\n",
    "        # plt.plot(history.history['val_acc'])\n",
    "        # plt.title('model accuracy')\n",
    "        # plt.xlabel('epoch')\n",
    "        # plt.ylabel('accuracy')\n",
    "        # plt.legend(['acc', 'val_acc'], loc='lower right')\n",
    "        # plt.show()\n",
    "\n",
    "        # 損失の履歴をプロット\n",
    "        # 後でfontsize変える\n",
    "        plt.plot(history.history['loss'])\n",
    "        plt.plot(history.history['val_loss'])\n",
    "        plt.title('model loss')\n",
    "        plt.xlabel('epoch')\n",
    "        plt.ylabel('loss')\n",
    "        plt.legend(['loss', 'val_loss'], loc='lower right')"
   ]
  },
  {
   "cell_type": "code",
   "execution_count": 33,
   "metadata": {},
   "outputs": [
    {
     "data": {
      "text/plain": [
       "<matplotlib.legend.Legend at 0x19f1c135be0>"
      ]
     },
     "execution_count": 33,
     "metadata": {},
     "output_type": "execute_result"
    },
    {
     "data": {
      "image/png": "[encoded data removed]",
      "text/plain": [
       "<Figure size 432x288 with 1 Axes>"
      ]
     },
     "metadata": {
      "needs_background": "light"
     },
     "output_type": "display_data"
    }
   ],
   "source": [
    "a_list=list(range(0,20))\n",
    "b_list=list(range(0,100,5))\n",
    "# b_list=b_list*5\n",
    "fig = plt.figure()\n",
    "fig_1 = fig.add_subplot(111)\n",
    "plt.rcParams['axes.linewidth'] = 1.0 # axis line width\n",
    "plt.rcParams['mathtext.fontset'] = 'stix' # math fontの設定\n",
    "plt.rcParams[\"font.size\"] = 24 # 全体のフォントサイズが変更されます。\n",
    "plt.rcParams['axes.grid'] = True # make grid\n",
    "plt.plot(a_list,linewidth = 2.0,marker='o')\n",
    "plt.plot(b_list,linewidth = 2.0,marker='o')\n",
    "plt.title('model loss')\n",
    "fig_1.set_xlabel('epoch')\n",
    "fig_1.set_ylabel('loss')\n",
    "# fig_1.legend(ncol=2, bbox_to_anchor=(0., 1.025, 1., 0.102), loc=3, mode='expand')\n",
    "plt.legend(['loss', 'val_loss'], loc='upper right', fontsize=18)\n",
    "# plt.legend(bbox_to_anchor=(1, 1), loc='upper right', borderaxespad=0, fontsize=18)\n",
    "\n"
   ]
  },
  {
   "cell_type": "code",
   "execution_count": null,
   "metadata": {},
   "outputs": [],
   "source": [
    "b_list"
   ]
  },
  {
   "cell_type": "code",
   "execution_count": null,
   "metadata": {},
   "outputs": [],
   "source": []
  }
 ],
 "metadata": {
  "kernelspec": {
   "display_name": "Python 3",
   "language": "python",
   "name": "python3"
  },
  "language_info": {
   "codemirror_mode": {
    "name": "ipython",
    "version": 3
   },
   "file_extension": ".py",
   "mimetype": "text/x-python",
   "name": "python",
   "nbconvert_exporter": "python",
   "pygments_lexer": "ipython3",
   "version": "3.6.8"
  }
 },
 "nbformat": 4,
 "nbformat_minor": 2
}
