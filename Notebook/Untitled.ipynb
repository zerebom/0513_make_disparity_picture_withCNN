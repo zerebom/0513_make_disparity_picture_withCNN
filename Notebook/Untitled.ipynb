{
 "cells": [
  {
   "cell_type": "code",
   "execution_count": 2,
   "metadata": {},
   "outputs": [],
   "source": [
    "from PIL import Image, ImageOps\n",
    "from IPython.display import display_png\n",
    "import os\n",
    "import math\n",
    "import random\n",
    "import numpy as np\n",
    "import pandas as pd\n",
    "import matplotlib.pyplot as plt\n",
    "from tensorflow.python import keras\n",
    "from tensorflow.python.keras import backend as K\n",
    "from tensorflow.python.keras.models import Model, Sequential\n",
    "from tensorflow.python.keras.layers import Conv2D, Dense, Input, MaxPool2D, UpSampling2D, Lambda\n",
    "from tensorflow.python.keras.preprocessing.image import load_img, img_to_array, array_to_img, ImageDataGenerator\n",
    "import tensorflow as tf\n",
    "from tensorflow import keras\n",
    "\n",
    "import json\n",
    "from tensorflow.python.keras.layers import Conv2DTranspose\n",
    "import glob"
   ]
  },
  {
   "cell_type": "code",
   "execution_count": 3,
   "metadata": {},
   "outputs": [],
   "source": [
    "config = json.load(open('./settings.json'))\n",
    "DATASET_PATH = config['dataset_path']"
   ]
  },
  {
   "cell_type": "markdown",
   "metadata": {},
   "source": [
    "やりたいこと\n",
    "\n",
    "train,test,validで分割する\n",
    "分割した中で、バッチサイズごとにyieldする\n",
    "そのパスを開いて、教師データ、トレーニングデータにチャンネル数を変える\n"
   ]
  },
  {
   "cell_type": "code",
   "execution_count": 5,
   "metadata": {},
   "outputs": [],
   "source": [
    "Left_RGB = glob.glob(os.path.join(DATASET_PATH['Left_RGB'], '*png'))\n",
    "Right_disparity = glob.glob(os.path.join(DATASET_PATH['Right_disparity'], '*png'))\n",
    "Left_disparity = glob.glob(os.path.join(DATASET_PATH['Left_disparity'], '*png'))\n",
    "\n",
    "Right_RGB = glob.glob(os.path.join(DATASET_PATH['Right_RGB'], '*png'))\n",
    "\n",
    "def train_valid_test_splits(img_total_num, train_rate=0.8, valid_rate=0.1, test_rate=0.1):\n",
    "    data_array = list(range(img_total_num))\n",
    "    tr = math.floor(img_total_num * train_rate)\n",
    "    vl = math.floor(img_total_num * (train_rate + valid_rate))\n",
    "\n",
    "    random.shuffle(data_array)\n",
    "    train_list = data_array[:tr]\n",
    "    valid_list = data_array[tr:vl]\n",
    "    test_list = data_array[vl:]\n",
    "\n",
    "    return train_list, valid_list, test_list\n",
    "\n",
    "\n",
    "def get_5channel_img_and_teach_img_from_data_list(batch_list, Left_RGB=Left_RGB, Right_RGB=Right_RGB, Left_disparity=Left_disparity,\n",
    "                                                  Right_disparity=Right_disparity, INPUT_SIZE=(128, 128)):\n",
    "    teach_img_list = []\n",
    "    input_5_channel_img_list = []\n",
    "    for i in batch_list:\n",
    "        L_RGB = img_to_array(load_img(Left_RGB[i], target_size=INPUT_SIZE)).astype(np.uint8)\n",
    "        L_DIS = img_to_array(load_img(Left_disparity[i], grayscale=True, target_size=INPUT_SIZE)).astype(np.uint8)\n",
    "        R_DIS = img_to_array(load_img(Right_disparity[i], grayscale=True, target_size=INPUT_SIZE)).astype(np.uint8)\n",
    "\n",
    "        input_5_channel_img = np.concatenate((L_RGB, L_DIS, R_DIS), 2).astype(np.uint8)\n",
    "        input_5_channel_img_list.append(input_5_channel_img)\n",
    "\n",
    "        teach_img = img_to_array(load_img(Right_RGB[i], target_size=INPUT_SIZE)).astype(np.uint8)\n",
    "        teach_img_list.append(teach_img)\n",
    "# 4次元テンソルに変換している\n",
    "    print('shape↓')\n",
    "    print(np.stack(teach_img_list).shape, np.stack(input_5_channel_img_list).shape)\n",
    "    return np.stack(input_5_channel_img_list), np.stack(teach_img_list)\n",
    "\n",
    "\n",
    "def generator_with_preprocessing(data_list, batch_size, shuffle=False):\n",
    "    while True:\n",
    "        if shuffle:\n",
    "            np.random.shuffle(data_list)\n",
    "        for i in range(0, len(data_list), batch_size):\n",
    "            batch_list = data_list[i:i + batch_size]\n",
    "            batch_5, batch_teach = get_5channel_img_and_teach_img_from_data_list(data_list)\n",
    "\n",
    "            yield(batch_5, batch_teach)\n"
   ]
  },
  {
   "cell_type": "code",
   "execution_count": 6,
   "metadata": {},
   "outputs": [
    {
     "data": {
      "text/plain": [
       "336"
      ]
     },
     "execution_count": 6,
     "metadata": {},
     "output_type": "execute_result"
    }
   ],
   "source": [
    "len(Left_RGB)"
   ]
  },
  {
   "cell_type": "code",
   "execution_count": 8,
   "metadata": {},
   "outputs": [],
   "source": [
    "train_list, valid_list, test_list = train_valid_test_splits(len(Left_RGB))\n"
   ]
  },
  {
   "cell_type": "code",
   "execution_count": 12,
   "metadata": {},
   "outputs": [],
   "source": [
    "batch_size=4"
   ]
  },
  {
   "cell_type": "code",
   "execution_count": 13,
   "metadata": {},
   "outputs": [],
   "source": [
    "train_gen = generator_with_preprocessing(train_list, batch_size)"
   ]
  }
 ],
 "metadata": {
  "kernelspec": {
   "display_name": "Python 3",
   "language": "python",
   "name": "python3"
  },
  "language_info": {
   "codemirror_mode": {
    "name": "ipython",
    "version": 3
   },
   "file_extension": ".py",
   "mimetype": "text/x-python",
   "name": "python",
   "nbconvert_exporter": "python",
   "pygments_lexer": "ipython3",
   "version": "3.6.8"
  }
 },
 "nbformat": 4,
 "nbformat_minor": 2
}
